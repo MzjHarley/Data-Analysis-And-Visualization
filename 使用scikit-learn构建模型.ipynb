{
 "cells": [
  {
   "cell_type": "code",
   "execution_count": 3,
   "metadata": {},
   "outputs": [
    {
     "name": "stdout",
     "output_type": "stream",
     "text": [
      "7\n",
      "<class 'sklearn.utils.Bunch'>\n",
      "[[1.799e+01 1.038e+01 1.228e+02 ... 2.654e-01 4.601e-01 1.189e-01]\n",
      " [2.057e+01 1.777e+01 1.329e+02 ... 1.860e-01 2.750e-01 8.902e-02]\n",
      " [1.969e+01 2.125e+01 1.300e+02 ... 2.430e-01 3.613e-01 8.758e-02]\n",
      " ...\n",
      " [1.660e+01 2.808e+01 1.083e+02 ... 1.418e-01 2.218e-01 7.820e-02]\n",
      " [2.060e+01 2.933e+01 1.401e+02 ... 2.650e-01 4.087e-01 1.240e-01]\n",
      " [7.760e+00 2.454e+01 4.792e+01 ... 0.000e+00 2.871e-01 7.039e-02]]\n",
      "[0 0 0 0 0 0 0 0 0 0 0 0 0 0 0 0 0 0 0 1 1 1 0 0 0 0 0 0 0 0 0 0 0 0 0 0 0\n",
      " 1 0 0 0 0 0 0 0 0 1 0 1 1 1 1 1 0 0 1 0 0 1 1 1 1 0 1 0 0 1 1 1 1 0 1 0 0\n",
      " 1 0 1 0 0 1 1 1 0 0 1 0 0 0 1 1 1 0 1 1 0 0 1 1 1 0 0 1 1 1 1 0 1 1 0 1 1\n",
      " 1 1 1 1 1 1 0 0 0 1 0 0 1 1 1 0 0 1 0 1 0 0 1 0 0 1 1 0 1 1 0 1 1 1 1 0 1\n",
      " 1 1 1 1 1 1 1 1 0 1 1 1 1 0 0 1 0 1 1 0 0 1 1 0 0 1 1 1 1 0 1 1 0 0 0 1 0\n",
      " 1 0 1 1 1 0 1 1 0 0 1 0 0 0 0 1 0 0 0 1 0 1 0 1 1 0 1 0 0 0 0 1 1 0 0 1 1\n",
      " 1 0 1 1 1 1 1 0 0 1 1 0 1 1 0 0 1 0 1 1 1 1 0 1 1 1 1 1 0 1 0 0 0 0 0 0 0\n",
      " 0 0 0 0 0 0 0 1 1 1 1 1 1 0 1 0 1 1 0 1 1 0 1 0 0 1 1 1 1 1 1 1 1 1 1 1 1\n",
      " 1 0 1 1 0 1 0 1 1 1 1 1 1 1 1 1 1 1 1 1 1 0 1 1 1 0 1 0 1 1 1 1 0 0 0 1 1\n",
      " 1 1 0 1 0 1 0 1 1 1 0 1 1 1 1 1 1 1 0 0 0 1 1 1 1 1 1 1 1 1 1 1 0 0 1 0 0\n",
      " 0 1 0 0 1 1 1 1 1 0 1 1 1 1 1 0 1 1 1 0 1 1 0 0 1 1 1 1 1 1 0 1 1 1 1 1 1\n",
      " 1 0 1 1 1 1 1 0 1 1 0 1 1 1 1 1 1 1 1 1 1 1 1 0 1 0 0 1 0 1 1 1 1 1 0 1 1\n",
      " 0 1 0 1 1 0 1 0 1 1 1 1 1 1 1 1 0 0 1 1 1 1 1 1 0 1 1 1 1 1 1 1 1 1 1 0 1\n",
      " 1 1 1 1 1 1 0 1 0 1 1 0 1 1 1 1 1 0 0 1 0 1 0 1 1 1 1 1 0 1 1 0 1 0 1 0 0\n",
      " 1 1 1 0 1 1 1 1 1 1 1 1 1 1 1 0 1 0 0 1 1 1 1 1 1 1 1 1 1 1 1 1 1 1 1 1 1\n",
      " 1 1 1 1 1 1 1 0 0 0 0 0 0 1]\n",
      "['mean radius' 'mean texture' 'mean perimeter' 'mean area'\n",
      " 'mean smoothness' 'mean compactness' 'mean concavity'\n",
      " 'mean concave points' 'mean symmetry' 'mean fractal dimension'\n",
      " 'radius error' 'texture error' 'perimeter error' 'area error'\n",
      " 'smoothness error' 'compactness error' 'concavity error'\n",
      " 'concave points error' 'symmetry error' 'fractal dimension error'\n",
      " 'worst radius' 'worst texture' 'worst perimeter' 'worst area'\n",
      " 'worst smoothness' 'worst compactness' 'worst concavity'\n",
      " 'worst concave points' 'worst symmetry' 'worst fractal dimension']\n",
      ".. _breast_cancer_dataset:\n",
      "\n",
      "Breast cancer wisconsin (diagnostic) dataset\n",
      "--------------------------------------------\n",
      "\n",
      "**Data Set Characteristics:**\n",
      "\n",
      "    :Number of Instances: 569\n",
      "\n",
      "    :Number of Attributes: 30 numeric, predictive attributes and the class\n",
      "\n",
      "    :Attribute Information:\n",
      "        - radius (mean of distances from center to points on the perimeter)\n",
      "        - texture (standard deviation of gray-scale values)\n",
      "        - perimeter\n",
      "        - area\n",
      "        - smoothness (local variation in radius lengths)\n",
      "        - compactness (perimeter^2 / area - 1.0)\n",
      "        - concavity (severity of concave portions of the contour)\n",
      "        - concave points (number of concave portions of the contour)\n",
      "        - symmetry\n",
      "        - fractal dimension (\"coastline approximation\" - 1)\n",
      "\n",
      "        The mean, standard error, and \"worst\" or largest (mean of the three\n",
      "        worst/largest values) of these features were computed for each image,\n",
      "        resulting in 30 features.  For instance, field 0 is Mean Radius, field\n",
      "        10 is Radius SE, field 20 is Worst Radius.\n",
      "\n",
      "        - class:\n",
      "                - WDBC-Malignant\n",
      "                - WDBC-Benign\n",
      "\n",
      "    :Summary Statistics:\n",
      "\n",
      "    ===================================== ====== ======\n",
      "                                           Min    Max\n",
      "    ===================================== ====== ======\n",
      "    radius (mean):                        6.981  28.11\n",
      "    texture (mean):                       9.71   39.28\n",
      "    perimeter (mean):                     43.79  188.5\n",
      "    area (mean):                          143.5  2501.0\n",
      "    smoothness (mean):                    0.053  0.163\n",
      "    compactness (mean):                   0.019  0.345\n",
      "    concavity (mean):                     0.0    0.427\n",
      "    concave points (mean):                0.0    0.201\n",
      "    symmetry (mean):                      0.106  0.304\n",
      "    fractal dimension (mean):             0.05   0.097\n",
      "    radius (standard error):              0.112  2.873\n",
      "    texture (standard error):             0.36   4.885\n",
      "    perimeter (standard error):           0.757  21.98\n",
      "    area (standard error):                6.802  542.2\n",
      "    smoothness (standard error):          0.002  0.031\n",
      "    compactness (standard error):         0.002  0.135\n",
      "    concavity (standard error):           0.0    0.396\n",
      "    concave points (standard error):      0.0    0.053\n",
      "    symmetry (standard error):            0.008  0.079\n",
      "    fractal dimension (standard error):   0.001  0.03\n",
      "    radius (worst):                       7.93   36.04\n",
      "    texture (worst):                      12.02  49.54\n",
      "    perimeter (worst):                    50.41  251.2\n",
      "    area (worst):                         185.2  4254.0\n",
      "    smoothness (worst):                   0.071  0.223\n",
      "    compactness (worst):                  0.027  1.058\n",
      "    concavity (worst):                    0.0    1.252\n",
      "    concave points (worst):               0.0    0.291\n",
      "    symmetry (worst):                     0.156  0.664\n",
      "    fractal dimension (worst):            0.055  0.208\n",
      "    ===================================== ====== ======\n",
      "\n",
      "    :Missing Attribute Values: None\n",
      "\n",
      "    :Class Distribution: 212 - Malignant, 357 - Benign\n",
      "\n",
      "    :Creator:  Dr. William H. Wolberg, W. Nick Street, Olvi L. Mangasarian\n",
      "\n",
      "    :Donor: Nick Street\n",
      "\n",
      "    :Date: November, 1995\n",
      "\n",
      "This is a copy of UCI ML Breast Cancer Wisconsin (Diagnostic) datasets.\n",
      "https://goo.gl/U2Uwz2\n",
      "\n",
      "Features are computed from a digitized image of a fine needle\n",
      "aspirate (FNA) of a breast mass.  They describe\n",
      "characteristics of the cell nuclei present in the image.\n",
      "\n",
      "Separating plane described above was obtained using\n",
      "Multisurface Method-Tree (MSM-T) [K. P. Bennett, \"Decision Tree\n",
      "Construction Via Linear Programming.\" Proceedings of the 4th\n",
      "Midwest Artificial Intelligence and Cognitive Science Society,\n",
      "pp. 97-101, 1992], a classification method which uses linear\n",
      "programming to construct a decision tree.  Relevant features\n",
      "were selected using an exhaustive search in the space of 1-4\n",
      "features and 1-3 separating planes.\n",
      "\n",
      "The actual linear program used to obtain the separating plane\n",
      "in the 3-dimensional space is that described in:\n",
      "[K. P. Bennett and O. L. Mangasarian: \"Robust Linear\n",
      "Programming Discrimination of Two Linearly Inseparable Sets\",\n",
      "Optimization Methods and Software 1, 1992, 23-34].\n",
      "\n",
      "This database is also available through the UW CS ftp server:\n",
      "\n",
      "ftp ftp.cs.wisc.edu\n",
      "cd math-prog/cpo-dataset/machine-learn/WDBC/\n",
      "\n",
      ".. topic:: References\n",
      "\n",
      "   - W.N. Street, W.H. Wolberg and O.L. Mangasarian. Nuclear feature extraction \n",
      "     for breast tumor diagnosis. IS&T/SPIE 1993 International Symposium on \n",
      "     Electronic Imaging: Science and Technology, volume 1905, pages 861-870,\n",
      "     San Jose, CA, 1993.\n",
      "   - O.L. Mangasarian, W.N. Street and W.H. Wolberg. Breast cancer diagnosis and \n",
      "     prognosis via linear programming. Operations Research, 43(4), pages 570-577, \n",
      "     July-August 1995.\n",
      "   - W.H. Wolberg, W.N. Street, and O.L. Mangasarian. Machine learning techniques\n",
      "     to diagnose breast cancer from fine-needle aspirates. Cancer Letters 77 (1994) \n",
      "     163-171.\n",
      "(569, 30)\n",
      "(569,)\n"
     ]
    }
   ],
   "source": [
    "from sklearn.datasets import load_breast_cancer\n",
    "cancer = load_breast_cancer()\n",
    "print(len(cancer))\n",
    "print(type(cancer))\n",
    "cancer_data = cancer['data']\n",
    "print(cancer_data)\n",
    "cancer_target=cancer['target']\n",
    "print(cancer_target)\n",
    "cancer_names = cancer['feature_names']\n",
    "print(cancer_names)\n",
    "cancer_desc = cancer['DESCR']\n",
    "print(cancer_desc)\n",
    "print(cancer_data.shape)\n",
    "print(cancer_target.shape)"
   ]
  },
  {
   "cell_type": "code",
   "execution_count": 4,
   "metadata": {},
   "outputs": [
    {
     "name": "stdout",
     "output_type": "stream",
     "text": [
      "(455, 30)\n",
      "(114, 30)\n",
      "(455,)\n",
      "(114,)\n"
     ]
    }
   ],
   "source": [
    "from sklearn.model_selection import train_test_split\n",
    "cancer_data_train,cancer_data_test,cancer_target_train,cancer_target_test=train_test_split(cancer_data,cancer_target,test_size=0.2,random_state=42)\n",
    "print(cancer_data_train.shape)\n",
    "print(cancer_data_test.shape)\n",
    "print(cancer_target_train.shape)\n",
    "print(cancer_target_test.shape)"
   ]
  },
  {
   "cell_type": "code",
   "execution_count": 5,
   "metadata": {},
   "outputs": [
    {
     "name": "stdout",
     "output_type": "stream",
     "text": [
      "0.0\n",
      "0.0\n",
      "4254.0\n",
      "1.0000000000000002\n",
      "0.0\n",
      "-0.057127602776294695\n",
      "3432.0\n",
      "1.3264399566986453\n"
     ]
    }
   ],
   "source": [
    "import numpy as np\n",
    "from sklearn.preprocessing import MinMaxScaler\n",
    "Scaler = MinMaxScaler().fit(cancer_data_train)\n",
    "cancer_trainScaler = Scaler.transform(cancer_data_train)\n",
    "cancer_testScaler=Scaler.transform(cancer_data_test)\n",
    "print(np.min(cancer_data_train))\n",
    "print(np.min(cancer_trainScaler))\n",
    "print(np.max(cancer_data_train))\n",
    "print(np.max(cancer_trainScaler))\n",
    "print(np.min(cancer_data_test))\n",
    "print(np.min(cancer_testScaler))\n",
    "print(np.max(cancer_data_test))\n",
    "print(np.max(cancer_testScaler))"
   ]
  },
  {
   "cell_type": "code",
   "execution_count": 7,
   "metadata": {},
   "outputs": [
    {
     "name": "stdout",
     "output_type": "stream",
     "text": [
      "(455, 30)\n",
      "(455, 10)\n",
      "(114, 30)\n",
      "(114, 10)\n"
     ]
    }
   ],
   "source": [
    "from sklearn.decomposition import PCA\n",
    "pca_model = PCA(n_components=10).fit(cancer_trainScaler)\n",
    "cancer_trainPca = pca_model.transform(cancer_trainScaler)\n",
    "cancer_testPca = pca_model.transform(cancer_testScaler)\n",
    "print(cancer_trainScaler.shape)\n",
    "print(cancer_trainPca.shape)\n",
    "print(cancer_testScaler.shape)\n",
    "print(cancer_testPca.shape)"
   ]
  },
  {
   "cell_type": "code",
   "execution_count": 9,
   "metadata": {},
   "outputs": [
    {
     "name": "stdout",
     "output_type": "stream",
     "text": [
      "(506, 13)\n",
      "(506,)\n",
      "(13,)\n"
     ]
    }
   ],
   "source": [
    "from sklearn.datasets import load_boston\n",
    "boston = load_boston()\n",
    "boston_data=boston['data']\n",
    "boston_target = boston['target']\n",
    "boston_names = boston['feature_names']\n",
    "print(boston_data.shape)\n",
    "print(boston_target.shape)\n",
    "print(boston_names.shape)"
   ]
  },
  {
   "cell_type": "code",
   "execution_count": 10,
   "metadata": {},
   "outputs": [
    {
     "name": "stdout",
     "output_type": "stream",
     "text": [
      "(404, 13)\n",
      "(102, 13)\n",
      "(404,)\n",
      "(102,)\n"
     ]
    }
   ],
   "source": [
    "boston_data_train,boston_data_test,boston_target_train,boston_target_test=train_test_split(boston_data,boston_target,test_size=0.2,random_state=42)\n",
    "print(boston_data_train.shape)\n",
    "print(boston_data_test.shape)\n",
    "print(boston_target_train.shape)\n",
    "print(boston_target_test.shape)"
   ]
  },
  {
   "cell_type": "code",
   "execution_count": 13,
   "metadata": {},
   "outputs": [
    {
     "name": "stdout",
     "output_type": "stream",
     "text": [
      "20779.436300555386\n",
      "1.3637225393110834e-15\n",
      "20779.436300555386\n",
      "1.3637225393110834e-15\n",
      "(404, 13)\n",
      "(404, 5)\n",
      "(102, 13)\n",
      "(102, 5)\n"
     ]
    }
   ],
   "source": [
    "from sklearn.preprocessing import StandardScaler\n",
    "stdScale=StandardScaler().fit(boston_data_train)\n",
    "boston_trainScaler = stdScale.transform(boston_data_train)\n",
    "boston_testScaler=stdScale.transform(boston_data_test)\n",
    "print(np.var(boston_data_train))\n",
    "print(np.mean(boston_trainScaler))\n",
    "print(np.var(boston_data_train))\n",
    "print(np.mean(boston_trainScaler))\n",
    "from sklearn.decomposition import PCA\n",
    "pca_model = PCA(n_components=5).fit(boston_trainScaler)\n",
    "boston_trainPca = pca_model.transform(boston_trainScaler)\n",
    "boston_testPca = pca_model.transform(boston_testScaler)\n",
    "print(boston_trainScaler.shape)\n",
    "print(boston_trainPca.shape)\n",
    "print(boston_testScaler.shape)\n",
    "print(boston_testPca.shape)"
   ]
  },
  {
   "cell_type": "code",
   "execution_count": 39,
   "metadata": {},
   "outputs": [
    {
     "name": "stdout",
     "output_type": "stream",
     "text": [
      "KMeans(n_clusters=3, random_state=123)\n",
      "0\n"
     ]
    },
    {
     "data": {
      "image/png": "[encoded data removed]",
      "text/plain": [
       "<Figure size 648x432 with 1 Axes>"
      ]
     },
     "metadata": {
      "needs_background": "light"
     },
     "output_type": "display_data"
    }
   ],
   "source": [
    "from sklearn.datasets import load_iris\n",
    "from sklearn.preprocessing import MinMaxScaler\n",
    "from sklearn.cluster import KMeans\n",
    "import pandas as pd\n",
    "from sklearn.manifold import TSNE\n",
    "import matplotlib.pyplot as plt\n",
    "\n",
    "plt.rcParams['font.sans-serif']=['SimHei']\n",
    "plt.rcParams['axes.unicode_minus']=False\n",
    "iris=load_iris()\n",
    "iris_data = iris['data']\n",
    "iris_target = iris['target']\n",
    "iris_names = iris['feature_names']\n",
    "scale = MinMaxScaler().fit(iris_data)\n",
    "iris_dataScale=scale.transform(iris_data)\n",
    "kmeans = KMeans(n_clusters=3,random_state=123).fit(iris_dataScale)\n",
    "print(kmeans)\n",
    "result = kmeans.predict([[1.5,1.5,1.5,1.5]])\n",
    "print(result[0])\n",
    "tsne = TSNE(n_components=2,init='random',random_state=177).fit(iris_data)\n",
    "df = pd.DataFrame(tsne.embedding_)\n",
    "df['labels'] = kmeans.labels_\n",
    "df1=df[df['labels']==0]\n",
    "df2=df[df['labels']==1]\n",
    "df3=df[df['labels']==2]\n",
    "plt.figure(figsize=(9,6))\n",
    "plt.plot(df1[0],df1[1],'bo',df2[0],df2[1],'r*',df3[0],df3[1],'gD')\n",
    "plt.savefig(\"./聚类结果.png\")\n",
    "plt.show()"
   ]
  },
  {
   "cell_type": "code",
   "execution_count": 23,
   "metadata": {},
   "outputs": [
    {
     "name": "stdout",
     "output_type": "stream",
     "text": [
      "2 0.7504732564880243\n",
      "3 0.8208080729114153\n",
      "4 0.7539699941396392\n",
      "5 0.7254830776265845\n",
      "6 0.614344977586966\n"
     ]
    },
    {
     "data": {
      "image/png": "[encoded data removed]",
      "text/plain": [
       "<Figure size 720x432 with 1 Axes>"
      ]
     },
     "metadata": {
      "needs_background": "light"
     },
     "output_type": "display_data"
    }
   ],
   "source": [
    "from sklearn.metrics import fowlkes_mallows_score\n",
    "for i in range(2,7):\n",
    "    kmeans=KMeans(n_clusters=i,random_state=123).fit(iris_data)\n",
    "    score = fowlkes_mallows_score(iris_target,kmeans.labels_)\n",
    "    print(i,score)\n",
    "\n",
    "from sklearn.metrics import silhouette_score\n",
    "import matplotlib.pyplot as plt\n",
    "silhouetteScore = []\n",
    "for i in range(2,15):\n",
    "    kmeans = KMeans(n_clusters = i,random_state=123).fit(iris_data)\n",
    "    score = silhouette_score(iris_data,kmeans.labels_)\n",
    "    silhouetteScore.append(score)\n",
    "plt.figure(figsize=(10,6))\n",
    "plt.plot(range(2,15),silhouetteScore,linewidth=1.5,linestyle='-')\n",
    "plt.show()"
   ]
  },
  {
   "cell_type": "code",
   "execution_count": 23,
   "metadata": {},
   "outputs": [
    {
     "name": "stdout",
     "output_type": "stream",
     "text": [
      "2 513.9245459802768\n",
      "3 561.62775662962\n",
      "4 530.7658081872851\n",
      "5 495.54148767768777\n",
      "6 469.83663313290083\n"
     ]
    }
   ],
   "source": [
    "from sklearn.metrics import calinski_harabasz_score\n",
    "for i in range(2,7):\n",
    "    kmeans = KMeans(n_clusters=i,random_state=123).fit(iris_data)\n",
    "    score = calinski_harabasz_score(iris_data,kmeans.labels_)\n",
    "    print(i,score)"
   ]
  },
  {
   "cell_type": "code",
   "execution_count": 34,
   "metadata": {},
   "outputs": [
    {
     "name": "stdout",
     "output_type": "stream",
     "text": [
      "SVC()\n",
      "[1 0 0 0 1 1 1 1 1 1 1 1 0 1 1 1 0 0 1 1]\n",
      "[1 0 0 0 1 1 1 1 1 1 1 1 0 1 1 1 0 0 1 1 0 0 0 1 0 1 0 1 1 1 1 0 1 0 0 0 0\n",
      " 0 1 0 1 1 1 1 0 1 1 0 1 1 1 0 0 1 0 1 0 1 1 0 1 1 1 1 0 1 1 1 1 1 0 1 1 1\n",
      " 1 0 1 1 0 1 0 1 0 1 1 0 1 1 1 1 0 1 1 0 1 1 1 0 0 0 0 0 0 1 1 1 1 0 0 0 1\n",
      " 1 1 1]\n",
      "111\n",
      "3\n",
      "0.9736842105263158\n",
      "0.9736842105263158\n",
      "0.9594594594594594\n",
      "1.0\n",
      "0.9793103448275862\n",
      "0.9432082364662903\n",
      "              precision    recall  f1-score   support\n",
      "\n",
      "           0       1.00      0.93      0.96        43\n",
      "           1       0.96      1.00      0.98        71\n",
      "\n",
      "    accuracy                           0.97       114\n",
      "   macro avg       0.98      0.97      0.97       114\n",
      "weighted avg       0.97      0.97      0.97       114\n",
      "\n"
     ]
    },
    {
     "data": {
      "image/png": "[encoded data removed]",
      "text/plain": [
       "<Figure size 720x432 with 1 Axes>"
      ]
     },
     "metadata": {
      "needs_background": "light"
     },
     "output_type": "display_data"
    }
   ],
   "source": [
    "import numpy as np\n",
    "from sklearn.datasets import load_breast_cancer\n",
    "from sklearn.svm import SVC\n",
    "from sklearn.model_selection import train_test_split\n",
    "from sklearn.preprocessing import StandardScaler\n",
    "cancer = load_breast_cancer()\n",
    "cancer_data = cancer['data']\n",
    "cancer_target = cancer['target']\n",
    "cancer_names = cancer['feature_names']\n",
    "cancer_data_train,cancer_data_test,cancer_target_train,cancer_target_test = train_test_split(cancer_data,cancer_target,test_size=0.2,random_state=22)\n",
    "stdScaler = StandardScaler().fit(cancer_data_train)\n",
    "cancer_trainStd = stdScaler.transform(cancer_data_train)\n",
    "cancer_testStd = stdScaler.transform(cancer_data_test)\n",
    "svm = SVC().fit(cancer_trainStd,cancer_target_train)\n",
    "print(svm)\n",
    "cancer_target_pred=svm.predict(cancer_testStd)\n",
    "print(cancer_target_pred[:20])\n",
    "print(cancer_target_test)\n",
    "trueResult = np.sum(cancer_target_pred == cancer_target_test)\n",
    "print(trueResult)\n",
    "print(cancer_target_test.shape[0]-trueResult)\n",
    "print(trueResult/cancer_target_test.shape[0])\n",
    "from sklearn.metrics import accuracy_score,precision_score,recall_score,f1_score,cohen_kappa_score,classification_report,roc_curve\n",
    "print(accuracy_score(cancer_target_test,cancer_target_pred))\n",
    "print(precision_score(cancer_target_test,cancer_target_pred))\n",
    "print(recall_score(cancer_target_test,cancer_target_pred))\n",
    "print(f1_score(cancer_target_test,cancer_target_pred))\n",
    "print(cohen_kappa_score(cancer_target_test,cancer_target_pred))\n",
    "print(classification_report(cancer_target_test,cancer_target_pred))\n",
    "      \n",
    "import matplotlib.pyplot as plot\n",
    "fpr,tpr,thresholds = roc_curve(cancer_target_test,cancer_target_pred)\n",
    "plt.figure(figsize=(10,6))\n",
    "plt.xlim(0,1)\n",
    "plt.ylim(0.0,1.1)\n",
    "plt.xlabel(\"False Positive Rate\")\n",
    "plt.ylabel(\"True Positive Rate\")\n",
    "plt.plot(fpr,tpr,linewidth=2,linestyle='-',color='red')\n",
    "plt.show()"
   ]
  },
  {
   "cell_type": "code",
   "execution_count": 11,
   "metadata": {},
   "outputs": [
    {
     "name": "stdout",
     "output_type": "stream",
     "text": [
      "SVC()\n",
      "              precision    recall  f1-score   support\n",
      "\n",
      "           3       0.00      0.00      0.00         3\n",
      "           4       0.45      0.69      0.55        13\n",
      "           5       0.54      0.22      0.31        32\n",
      "           6       0.40      0.33      0.36        48\n",
      "           7       0.41      0.44      0.42        84\n",
      "           8       0.37      0.36      0.37        99\n",
      "           9       0.28      0.57      0.38       142\n",
      "          10       0.24      0.33      0.28       139\n",
      "          11       0.25      0.25      0.25        93\n",
      "          12       0.00      0.00      0.00        51\n",
      "          13       0.00      0.00      0.00        31\n",
      "          14       0.00      0.00      0.00        26\n",
      "          15       0.00      0.00      0.00        21\n",
      "          16       0.00      0.00      0.00        13\n",
      "          17       0.00      0.00      0.00         8\n",
      "          18       0.00      0.00      0.00        12\n",
      "          19       0.00      0.00      0.00         7\n",
      "          20       0.00      0.00      0.00         4\n",
      "          21       0.00      0.00      0.00         3\n",
      "          22       0.00      0.00      0.00         3\n",
      "          23       0.00      0.00      0.00         4\n",
      "\n",
      "    accuracy                           0.31       836\n",
      "   macro avg       0.14      0.15      0.14       836\n",
      "weighted avg       0.25      0.31      0.26       836\n",
      "\n"
     ]
    }
   ],
   "source": [
    "import numpy as np\n",
    "from sklearn.svm import SVC\n",
    "from sklearn.model_selection import train_test_split\n",
    "from sklearn.preprocessing import StandardScaler\n",
    "from sklearn.metrics import classification_report\n",
    "import pandas as pd\n",
    "import warnings\n",
    "warnings.filterwarnings(\"ignore\")\n",
    "abalone = pd.read_csv('./abalone.data',sep=',') \n",
    "abalone_data=abalone.iloc[:,:8]\n",
    "abalone_target=abalone.iloc[:,8]\n",
    "\n",
    "sex=pd.get_dummies(abalone_data['sex'])\n",
    "abalone_data = pd.concat([abalone_data,sex],axis=1)\n",
    "abalone_data.drop('sex',axis=1,inplace=True)\n",
    "abalone_train,abalone_test,abalone_target_train,abalone_target_test = train_test_split(abalone_data,abalone_target,test_size=0.2,random_state=42)\n",
    "stdScaler = StandardScaler().fit(abalone_train)\n",
    "abalone_trainStd = stdScaler.transform(abalone_train)\n",
    "abalone_testStd = stdScaler.transform(abalone_test)\n",
    "svm = SVC().fit(abalone_trainStd,abalone_target_train)\n",
    "print(svm)\n",
    "abalone_target_pred=svm.predict(abalone_testStd)\n",
    "print(classification_report(abalone_target_test,abalone_target_pred))"
   ]
  },
  {
   "cell_type": "code",
   "execution_count": 12,
   "metadata": {},
   "outputs": [
    {
     "name": "stdout",
     "output_type": "stream",
     "text": [
      "[21.16289134 19.67630366 22.02458756 24.61877465 14.44016461 23.32107187\n",
      " 16.64386997 14.97085403 33.58043891 17.49079058 25.50429987 36.60653092\n",
      " 25.95062329 28.49744469 19.35133847 20.17145783 25.97572083 18.26842082\n",
      " 16.52840639 17.08939063]\n"
     ]
    },
    {
     "data": {
      "image/png": "[encoded data removed]",
      "text/plain": [
       "<Figure size 720x432 with 1 Axes>"
      ]
     },
     "metadata": {
      "needs_background": "light"
     },
     "output_type": "display_data"
    },
    {
     "name": "stdout",
     "output_type": "stream",
     "text": [
      "0.710547565009666\n",
      "3.3775517360082032\n",
      "31.15051739031563\n",
      "1.7788996425420773\n",
      "0.7068961686076838\n"
     ]
    }
   ],
   "source": [
    "from sklearn.linear_model import LinearRegression\n",
    "from sklearn.datasets import load_boston\n",
    "from sklearn.model_selection import train_test_split\n",
    "boston = load_boston()\n",
    "x= boston['data']\n",
    "y= boston['target']\n",
    "names = boston['feature_names']\n",
    "x_train,x_test,y_train,y_test=train_test_split(x,y,test_size=0.2,random_state=125)\n",
    "clf = LinearRegression().fit(x_train,y_train)\n",
    "y_pred=clf.predict(x_test)\n",
    "print(y_pred[:20])\n",
    "\n",
    "import matplotlib.pyplot as plt\n",
    "from matplotlib import rcParams\n",
    "rcParams['font.sans-serif']='SimHei'\n",
    "fig = plt.figure(figsize=(10,6))\n",
    "plt.plot(range(y_test.shape[0]),y_test,color='blue',linewidth=1.5,linestyle='-')\n",
    "plt.plot(range(y_test.shape[0]),y_pred,color='red',linewidth=1.5,linestyle='-')\n",
    "plt.xlim((0,102))\n",
    "plt.ylim((0,55))\n",
    "plt.legend(['真实值','预测值'])\n",
    "plt.savefig('./聚回归类结果.png')\n",
    "plt.show()\n",
    "\n",
    "from sklearn.metrics import explained_variance_score,mean_absolute_error,mean_squared_error,median_absolute_error,r2_score\n",
    "print(explained_variance_score(y_test,y_pred))\n",
    "print(mean_absolute_error(y_test,y_pred))\n",
    "print(mean_squared_error(y_test,y_pred))\n",
    "print(median_absolute_error(y_test,y_pred))\n",
    "print(r2_score(y_test,y_pred))"
   ]
  },
  {
   "cell_type": "code",
   "execution_count": 10,
   "metadata": {},
   "outputs": [
    {
     "name": "stdout",
     "output_type": "stream",
     "text": [
      "GradientBoostingRegressor()\n",
      "[306056.55727428 263979.07702084 112642.67414097 210375.49860923\n",
      " 253934.97132201 208539.38829175 304617.79536738 250941.81851003\n",
      " 145760.33402594 341709.59242484 130838.72865955 166013.75796672\n",
      " 139870.1958343  340065.82710968 232614.71920181 120420.25896865\n",
      " 277145.2587978  102022.33731573 160163.91457877 410153.69797713]\n",
      "0.7795276152707903\n",
      "38072.444761413186\n",
      "3000529420.054594\n",
      "26614.095882867216\n",
      "0.7792929291467223\n"
     ]
    }
   ],
   "source": [
    "import pandas as pd\n",
    "from sklearn.ensemble import GradientBoostingRegressor\n",
    "from sklearn.model_selection import train_test_split\n",
    "house= pd.read_csv('./cal_housing.data',sep=',') #没有找到数据\n",
    "x= house.iloc[:,:-1]\n",
    "y= house.iloc[:,-1]\n",
    "x_train,x_test,y_train,y_test=train_test_split(x,y,test_size=0.2,random_state=125)\n",
    "GBR_house = GradientBoostingRegressor().fit(x_train,y_train)\n",
    "print(GBR_house)\n",
    "y_pred=GBR_house.predict(x_test)\n",
    "print(y_pred[:20])\n",
    "from sklearn.metrics import explained_variance_score,mean_absolute_error,mean_squared_error,median_absolute_error,r2_score\n",
    "print(explained_variance_score(y_test,y_pred))\n",
    "print(mean_absolute_error(y_test,y_pred))\n",
    "print(mean_squared_error(y_test,y_pred))\n",
    "print(median_absolute_error(y_test,y_pred))\n",
    "print(r2_score(y_test,y_pred))"
   ]
  },
  {
   "cell_type": "code",
   "execution_count": 4,
   "metadata": {},
   "outputs": [
    {
     "name": "stdout",
     "output_type": "stream",
     "text": [
      "[1853.37423313  -21.7791411 ]\n",
      "7215.950920245396\n",
      "[16487.11656442]\n"
     ]
    }
   ],
   "source": [
    "from sklearn import linear_model\n",
    "import numpy as np\n",
    "x=np.array([[1,56],[2,104],[3,156],[4,200],[5,250],[6,300]])\n",
    "y=np.array([7800,9000,9200,10000,11000,12000])\n",
    "clf = linear_model.LinearRegression().fit(x,y)\n",
    "k = clf.coef_\n",
    "b = clf.intercept_\n",
    "x0=np.array([[7,170]])\n",
    "y0=clf.predict(x0)\n",
    "print(k)\n",
    "print(b)\n",
    "print(y0)"
   ]
  },
  {
   "cell_type": "code",
   "execution_count": 6,
   "metadata": {},
   "outputs": [
    {
     "name": "stdout",
     "output_type": "stream",
     "text": [
      "[10.00932795 16.11613094]\n",
      "6935.001421210873\n",
      "[9744.80897725]\n"
     ]
    }
   ],
   "source": [
    "from sklearn import linear_model\n",
    "import numpy as np\n",
    "x=np.array([[1,56],[2,104],[3,156],[4,200],[5,250],[6,300]])\n",
    "y=np.array([7800,9000,9200,10000,11000,12000])\n",
    "clf = linear_model.Ridge(alpha=1.0).fit(x,y)\n",
    "k = clf.coef_\n",
    "b = clf.intercept_\n",
    "x0=np.array([[7,170]])\n",
    "y0=clf.predict(x0)\n",
    "print(k)\n",
    "print(b)\n",
    "print(y0)"
   ]
  }
 ],
 "metadata": {
  "kernelspec": {
   "display_name": "Python 3",
   "language": "python",
   "name": "python3"
  },
  "language_info": {
   "codemirror_mode": {
    "name": "ipython",
    "version": 3
   },
   "file_extension": ".py",
   "mimetype": "text/x-python",
   "name": "python",
   "nbconvert_exporter": "python",
   "pygments_lexer": "ipython3",
   "version": "3.8.5"
  }
 },
 "nbformat": 4,
 "nbformat_minor": 5
}
